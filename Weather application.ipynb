{
 "cells": [
  {
   "cell_type": "code",
   "execution_count": 1,
   "id": "3b21586c",
   "metadata": {},
   "outputs": [
    {
     "name": "stdout",
     "output_type": "stream",
     "text": [
      "Enter city name: Hyderabad\n",
      "Weather for Hyderabad, IN as of 2024-05-31 12:30:00:\n",
      "Temperature: 34.67°C, Feels like: 36.32°C\n",
      "Weather Description: scattered clouds\n",
      "Humidity: 46%\n",
      "Wind Speed: 2.79 m/s\n",
      "\n"
     ]
    }
   ],
   "source": [
    "import requests\n",
    "import json\n",
    "from datetime import datetime\n",
    "\n",
    "# Function to fetch weather data\n",
    "def fetch_weather(city):\n",
    "    api_key = \"Your api key\"\n",
    "    base_url = f'http://api.openweathermap.org/data/2.5/weather?q={city}&appid={api_key}&units=metric'\n",
    "\n",
    "    response = requests.get(base_url)\n",
    "    if response.status_code == 200:\n",
    "        data = response.json()\n",
    "        return data\n",
    "    else:\n",
    "        print(f'Error fetching data: {response.status_code}')\n",
    "        return None\n",
    "\n",
    "# Function to display weather data\n",
    "def display_weather(data):\n",
    "    if data:\n",
    "        city = data['name']\n",
    "        country = data['sys']['country']\n",
    "        temp = data['main']['temp']\n",
    "        feels_like = data['main']['feels_like']\n",
    "        weather_desc = data['weather'][0]['description']\n",
    "        humidity = data['main']['humidity']\n",
    "        wind_speed = data['wind']['speed']\n",
    "        timezone = data['timezone']\n",
    "\n",
    "        local_time = datetime.utcfromtimestamp(data['dt'] + timezone).strftime('%Y-%m-%d %H:%M:%S')\n",
    "\n",
    "        print(f'Weather for {city}, {country} as of {local_time}:')\n",
    "        print(f'Temperature: {temp}°C, Feels like: {feels_like}°C')\n",
    "        print(f'Weather Description: {weather_desc}')\n",
    "        print(f'Humidity: {humidity}%')\n",
    "        print(f'Wind Speed: {wind_speed} m/s')\n",
    "\n",
    "if __name__ == '__main__':\n",
    "    city = input('Enter city name: ')\n",
    "    weather_data = fetch_weather(city)\n",
    "    display_weather(weather_data)"
   ]
  },
  {
   "cell_type": "code",
   "execution_count": null,
   "id": "e551bc8c",
   "metadata": {},
   "outputs": [],
   "source": []
  }
 ],
 "metadata": {
  "kernelspec": {
   "display_name": "Python 3 (ipykernel)",
   "language": "python",
   "name": "python3"
  },
  "language_info": {
   "codemirror_mode": {
    "name": "ipython",
    "version": 3
   },
   "file_extension": ".py",
   "mimetype": "text/x-python",
   "name": "python",
   "nbconvert_exporter": "python",
   "pygments_lexer": "ipython3",
   "version": "3.9.19"
  }
 },
 "nbformat": 4,
 "nbformat_minor": 5
}
